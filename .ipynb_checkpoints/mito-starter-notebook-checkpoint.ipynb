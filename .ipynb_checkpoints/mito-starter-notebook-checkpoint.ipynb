{
 "cells": [
  {
   "cell_type": "code",
   "execution_count": 2,
   "id": "db676134",
   "metadata": {},
   "outputs": [
    {
     "name": "stdout",
     "output_type": "stream",
     "text": [
      "Starting Mito install. This make take a few moments.\n",
      "\n",
      "In the meantime, check out a 2 minute intro to Mito: https://www.youtube.com/watch?v=LFfWfqzdKyE\n",
      "\n",
      "Upgrade mitoinstaller\n",
      "Setting up environment\n",
      "Check dependencies\n",
      "Remove mitosheet3 if present\n",
      "Install mitosheet\n",
      "This may take a few moments...\n",
      "Activate extension\n",
      "Create import mito startup file\n",
      "Creating a Mitosheet starter notebook\n",
      "Start Jupyter\n",
      "jupyter_http_over_ws extension initialized. Listening on /http_over_websocket\n",
      "\u001b[33m[W 07:29:19.209 NotebookApp]\u001b[m Error loading server extension jupyter_nbextensions_configurator\n",
      "    Traceback (most recent call last):\n",
      "      File \"/opt/homebrew/Caskroom/miniconda/base/lib/python3.9/site-packages/notebook/notebookapp.py\", line 2025, in init_server_extensions\n",
      "        mod = importlib.import_module(modulename)\n",
      "      File \"/opt/homebrew/Caskroom/miniconda/base/lib/python3.9/importlib/__init__.py\", line 127, in import_module\n",
      "        return _bootstrap._gcd_import(name[level:], package, level)\n",
      "      File \"<frozen importlib._bootstrap>\", line 1030, in _gcd_import\n",
      "      File \"<frozen importlib._bootstrap>\", line 1007, in _find_and_load\n",
      "      File \"<frozen importlib._bootstrap>\", line 984, in _find_and_load_unlocked\n",
      "    ModuleNotFoundError: No module named 'jupyter_nbextensions_configurator'\n",
      "\u001b[33m[W 2022-10-11 07:29:19.661 LabApp]\u001b[m 'file_to_run' has moved from NotebookApp to ServerApp. This config will be passed to ServerApp. Be sure to update your config before our next release.\n",
      "\u001b[33m[W 2022-10-11 07:29:19.661 LabApp]\u001b[m 'file_to_run' has moved from NotebookApp to ServerApp. This config will be passed to ServerApp. Be sure to update your config before our next release.\n",
      "\u001b[32m[I 2022-10-11 07:29:19.666 LabApp]\u001b[m JupyterLab extension loaded from /opt/homebrew/Caskroom/miniconda/base/lib/python3.9/site-packages/jupyterlab\n",
      "\u001b[32m[I 2022-10-11 07:29:19.666 LabApp]\u001b[m JupyterLab application directory is /opt/homebrew/Caskroom/miniconda/base/share/jupyter/lab\n",
      "\u001b[32m[I 07:29:19.686 NotebookApp]\u001b[m The port 8888 is already in use, trying another port.\n",
      "\u001b[32m[I 07:29:19.697 NotebookApp]\u001b[m The port 8889 is already in use, trying another port.\n",
      "\u001b[32m[I 07:29:19.708 NotebookApp]\u001b[m The port 8890 is already in use, trying another port.\n",
      "\u001b[32m[I 07:29:19.713 NotebookApp]\u001b[m Serving notebooks from local directory: /Users/lukashuber/Library/CloudStorage/OneDrive-FachhochschuleKufsteinTirolBildungsGmbH/WS2223/IAS/ias_demos\n",
      "\u001b[32m[I 07:29:19.713 NotebookApp]\u001b[m Jupyter Notebook 6.4.11 is running at:\n",
      "\u001b[32m[I 07:29:19.713 NotebookApp]\u001b[m http://localhost:8891/?token=2a945787538664294db21e7c050c268f0d39eb2e96fd5fb9\n",
      "\u001b[32m[I 07:29:19.713 NotebookApp]\u001b[m  or http://127.0.0.1:8891/?token=2a945787538664294db21e7c050c268f0d39eb2e96fd5fb9\n",
      "\u001b[32m[I 07:29:19.713 NotebookApp]\u001b[m Use Control-C to stop this server and shut down all kernels (twice to skip confirmation).\n",
      "\u001b[35m[C 07:29:19.718 NotebookApp]\u001b[m \n",
      "    \n",
      "    To access the notebook, open this file in a browser:\n",
      "        file:///Users/lukashuber/Library/Jupyter/runtime/nbserver-7120-open.html\n",
      "    Or copy and paste one of these URLs:\n",
      "        http://localhost:8891/?token=2a945787538664294db21e7c050c268f0d39eb2e96fd5fb9\n",
      "     or http://127.0.0.1:8891/?token=2a945787538664294db21e7c050c268f0d39eb2e96fd5fb9\n",
      "\u001b[33m[W 07:29:21.815 NotebookApp]\u001b[m Notebook mito-starter-notebook.ipynb is not trusted\n",
      "\u001b[33m[W 07:29:21.827 NotebookApp]\u001b[m 404 GET /nbextensions/nbextensions_configurator/config_menu/main.js (::1) 3.940000ms referer=http://localhost:8891/notebooks/mito-starter-notebook.ipynb\n",
      "\u001b[33m[W 07:29:21.884 NotebookApp]\u001b[m 404 GET /nbextensions/widgets/notebook/js/extension.js (::1) 2.350000ms referer=http://localhost:8891/notebooks/mito-starter-notebook.ipynb\n",
      "\u001b[32m[I 07:29:21.892 NotebookApp]\u001b[m Kernel started: ad2332f8-2eb5-4d11-92fb-e2ab1be1d38e, name: python3\n",
      "\u001b[32m[I 07:29:36.924 NotebookApp]\u001b[m Starting buffering for ad2332f8-2eb5-4d11-92fb-e2ab1be1d38e:17ebb129b3cf4a4f90d282f53b132a21\n",
      "^C\n",
      "\u001b[32m[I 07:29:48.301 NotebookApp]\u001b[m interrupted\n",
      "Serving notebooks from local directory: /Users/lukashuber/Library/CloudStorage/OneDrive-FachhochschuleKufsteinTirolBildungsGmbH/WS2223/IAS/ias_demos\n",
      "1 active kernel\n",
      "Jupyter Notebook 6.4.11 is running at:\n",
      "http://localhost:8891/?token=2a945787538664294db21e7c050c268f0d39eb2e96fd5fb9\n",
      " or http://127.0.0.1:8891/?token=2a945787538664294db21e7c050c268f0d39eb2e96fd5fb9\n",
      "Shutdown this notebook server (y/[n])? resuming operation...\n"
     ]
    }
   ],
   "source": [
    "!python -m mitoinstaller install"
   ]
  },
  {
   "cell_type": "code",
   "execution_count": 1,
   "id": "c0957234-ba57-4199-adfa-9d17ede0b8f9",
   "metadata": {},
   "outputs": [
    {
     "data": {
      "application/vnd.jupyter.widget-view+json": {
       "model_id": "2720383c7f664495bc94105c2603f5a3",
       "version_major": 2,
       "version_minor": 0
      },
      "text/plain": [
       "MitoWidget(analysis_data_json='{\"analysisName\": \"id-twnxkpaeln\", \"analysisToReplay\": null, \"code\": [], \"stepSu…"
      ]
     },
     "metadata": {},
     "output_type": "display_data"
    }
   ],
   "source": [
    "# Run this cell to render a mitosheet\n",
    "# See mito's documentation here: https://docs.trymito.io/how-to/creating-a-mitosheet\n",
    "# Join our Discord for support here: https://discord.gg/XdJSZyejJU\n",
    "\n",
    "import mitosheet\n",
    "mitosheet.sheet(analysis_to_replay=\"id-twnxkpaeln\")"
   ]
  },
  {
   "cell_type": "code",
   "execution_count": null,
   "id": "eb401ce6-868d-4fa0-9da6-7e68c22e8dd5",
   "metadata": {},
   "outputs": [],
   "source": []
  }
 ],
 "metadata": {
  "kernelspec": {
   "display_name": "Python 3 (ipykernel)",
   "language": "python",
   "name": "python3"
  },
  "language_info": {
   "codemirror_mode": {
    "name": "ipython",
    "version": 3
   },
   "file_extension": ".py",
   "mimetype": "text/x-python",
   "name": "python",
   "nbconvert_exporter": "python",
   "pygments_lexer": "ipython3",
   "version": "3.9.12"
  },
  "vscode": {
   "interpreter": {
    "hash": "e7cb1b9ae4d417fedf7f40a8eec98f7cfbd359e096bd857395a915f4609834ce"
   }
  },
  "widgets": {
   "application/vnd.jupyter.widget-state+json": {
    "state": {},
    "version_major": 2,
    "version_minor": 0
   }
  }
 },
 "nbformat": 4,
 "nbformat_minor": 5
}
